{
 "cells": [
  {
   "cell_type": "markdown",
   "metadata": {},
   "source": [
    "# Network missing links prediction"
   ]
  },
  {
   "cell_type": "markdown",
   "metadata": {},
   "source": [
    "The goal of this assigment is to **predict missing links from a network**.\n",
    "\n",
    "The dataset is a **citation network of research articles, represented as a graph G = (V, E)**. The nodes correspond to scientific articles\n",
    "and the existence of a directed edge between nodes u and v indicates that paper u cites paper v. Each article is also associated with information such as title, publication year,\n",
    "author names, journal name and a short abstract.\n",
    "\n",
    "We will build a **machine learning model to predict from a pair of nodes if an edge is present (1) or not (0)**. A number of edges have been randomly removed from the initial graph, and the binary classifier performance will be measured on a test subset."
   ]
  },
  {
   "cell_type": "markdown",
   "metadata": {},
   "source": [
    "## Get the network as a graph"
   ]
  },
  {
   "cell_type": "code",
   "execution_count": 162,
   "metadata": {},
   "outputs": [
    {
     "data": {
      "text/html": [
       "<div>\n",
       "<style>\n",
       "    .dataframe thead tr:only-child th {\n",
       "        text-align: right;\n",
       "    }\n",
       "\n",
       "    .dataframe thead th {\n",
       "        text-align: left;\n",
       "    }\n",
       "\n",
       "    .dataframe tbody tr th {\n",
       "        vertical-align: top;\n",
       "    }\n",
       "</style>\n",
       "<table border=\"1\" class=\"dataframe\">\n",
       "  <thead>\n",
       "    <tr style=\"text-align: right;\">\n",
       "      <th></th>\n",
       "      <th>0</th>\n",
       "      <th>1</th>\n",
       "      <th>2</th>\n",
       "    </tr>\n",
       "  </thead>\n",
       "  <tbody>\n",
       "    <tr>\n",
       "      <th>0</th>\n",
       "      <td>9510123</td>\n",
       "      <td>9502114</td>\n",
       "      <td>1</td>\n",
       "    </tr>\n",
       "    <tr>\n",
       "      <th>1</th>\n",
       "      <td>9707075</td>\n",
       "      <td>9604178</td>\n",
       "      <td>1</td>\n",
       "    </tr>\n",
       "    <tr>\n",
       "      <th>2</th>\n",
       "      <td>9312155</td>\n",
       "      <td>9506142</td>\n",
       "      <td>0</td>\n",
       "    </tr>\n",
       "  </tbody>\n",
       "</table>\n",
       "</div>"
      ],
      "text/plain": [
       "         0        1  2\n",
       "0  9510123  9502114  1\n",
       "1  9707075  9604178  1\n",
       "2  9312155  9506142  0"
      ]
     },
     "execution_count": 162,
     "metadata": {},
     "output_type": "execute_result"
    }
   ],
   "source": [
    "import pandas as pd\n",
    "\n",
    "training = pd.read_csv('./data/training_set.txt', sep = ' ', header = None)\n",
    "training.head(3)"
   ]
  },
  {
   "cell_type": "markdown",
   "metadata": {},
   "source": [
    "The training set has 3 columns: the first two indicating nodes IDs and the third one if there is a link between the node pair. **The graph is directed: the first node is the source (quoting article) and the second node is the target (quoted article).**"
   ]
  },
  {
   "cell_type": "code",
   "execution_count": 163,
   "metadata": {},
   "outputs": [
    {
     "data": {
      "text/html": [
       "<div>\n",
       "<style>\n",
       "    .dataframe thead tr:only-child th {\n",
       "        text-align: right;\n",
       "    }\n",
       "\n",
       "    .dataframe thead th {\n",
       "        text-align: left;\n",
       "    }\n",
       "\n",
       "    .dataframe tbody tr th {\n",
       "        vertical-align: top;\n",
       "    }\n",
       "</style>\n",
       "<table border=\"1\" class=\"dataframe\">\n",
       "  <thead>\n",
       "    <tr style=\"text-align: right;\">\n",
       "      <th></th>\n",
       "      <th>0</th>\n",
       "      <th>1</th>\n",
       "    </tr>\n",
       "  </thead>\n",
       "  <tbody>\n",
       "    <tr>\n",
       "      <th>0</th>\n",
       "      <td>9807076</td>\n",
       "      <td>9807139</td>\n",
       "    </tr>\n",
       "    <tr>\n",
       "      <th>1</th>\n",
       "      <td>109162</td>\n",
       "      <td>1182</td>\n",
       "    </tr>\n",
       "    <tr>\n",
       "      <th>2</th>\n",
       "      <td>9702187</td>\n",
       "      <td>9510135</td>\n",
       "    </tr>\n",
       "  </tbody>\n",
       "</table>\n",
       "</div>"
      ],
      "text/plain": [
       "         0        1\n",
       "0  9807076  9807139\n",
       "1   109162     1182\n",
       "2  9702187  9510135"
      ]
     },
     "execution_count": 163,
     "metadata": {},
     "output_type": "execute_result"
    }
   ],
   "source": [
    "testing = pd.read_csv('./data/testing_set.txt', sep = ' ', header = None)\n",
    "testing.head(3)"
   ]
  },
  {
   "cell_type": "markdown",
   "metadata": {},
   "source": [
    "The testing set is similar but does not contain the link presence information, since this is what we want to predict. We also have access to the file `node_information`, containing additional information about the research articles. The file has no Header and columns can be named for the sake of clarity.\n",
    "\n",
    "We also use id as index, which will make information retrieval easier later."
   ]
  },
  {
   "cell_type": "code",
   "execution_count": 164,
   "metadata": {
    "scrolled": true
   },
   "outputs": [
    {
     "data": {
      "text/html": [
       "<div>\n",
       "<style>\n",
       "    .dataframe thead tr:only-child th {\n",
       "        text-align: right;\n",
       "    }\n",
       "\n",
       "    .dataframe thead th {\n",
       "        text-align: left;\n",
       "    }\n",
       "\n",
       "    .dataframe tbody tr th {\n",
       "        vertical-align: top;\n",
       "    }\n",
       "</style>\n",
       "<table border=\"1\" class=\"dataframe\">\n",
       "  <thead>\n",
       "    <tr style=\"text-align: right;\">\n",
       "      <th></th>\n",
       "      <th>id</th>\n",
       "      <th>pub_year</th>\n",
       "      <th>title</th>\n",
       "      <th>authors</th>\n",
       "      <th>journal_name</th>\n",
       "      <th>abstract</th>\n",
       "    </tr>\n",
       "  </thead>\n",
       "  <tbody>\n",
       "    <tr>\n",
       "      <th>0</th>\n",
       "      <td>1001</td>\n",
       "      <td>2000</td>\n",
       "      <td>compactification geometry and duality</td>\n",
       "      <td>Paul S. Aspinwall</td>\n",
       "      <td>NaN</td>\n",
       "      <td>these are notes based on lectures given at tas...</td>\n",
       "    </tr>\n",
       "    <tr>\n",
       "      <th>1</th>\n",
       "      <td>1002</td>\n",
       "      <td>2000</td>\n",
       "      <td>domain walls and massive gauged supergravity p...</td>\n",
       "      <td>M. Cvetic, H. Lu, C.N. Pope</td>\n",
       "      <td>Class.Quant.Grav.</td>\n",
       "      <td>we point out that massive gauged supergravity ...</td>\n",
       "    </tr>\n",
       "    <tr>\n",
       "      <th>2</th>\n",
       "      <td>1003</td>\n",
       "      <td>2000</td>\n",
       "      <td>comment on metric fluctuations in brane worlds</td>\n",
       "      <td>Y.S. Myung, Gungwon Kang</td>\n",
       "      <td>NaN</td>\n",
       "      <td>recently ivanov and volovich hep-th 9912242 cl...</td>\n",
       "    </tr>\n",
       "  </tbody>\n",
       "</table>\n",
       "</div>"
      ],
      "text/plain": [
       "     id  pub_year                                              title  \\\n",
       "0  1001      2000              compactification geometry and duality   \n",
       "1  1002      2000  domain walls and massive gauged supergravity p...   \n",
       "2  1003      2000     comment on metric fluctuations in brane worlds   \n",
       "\n",
       "                       authors       journal_name  \\\n",
       "0            Paul S. Aspinwall                NaN   \n",
       "1  M. Cvetic, H. Lu, C.N. Pope  Class.Quant.Grav.   \n",
       "2     Y.S. Myung, Gungwon Kang                NaN   \n",
       "\n",
       "                                            abstract  \n",
       "0  these are notes based on lectures given at tas...  \n",
       "1  we point out that massive gauged supergravity ...  \n",
       "2  recently ivanov and volovich hep-th 9912242 cl...  "
      ]
     },
     "execution_count": 164,
     "metadata": {},
     "output_type": "execute_result"
    }
   ],
   "source": [
    "node_info = pd.read_csv('./data/node_information.csv', header= None)\n",
    "node_info.columns = ['id', 'pub_year', 'title', 'authors', 'journal_name', 'abstract']\n",
    "node_info.head(3)"
   ]
  },
  {
   "cell_type": "markdown",
   "metadata": {},
   "source": [
    "Now that we have everything, we can start to build our network!\n",
    "\n",
    "We take the IDs from `node_info`, that contains every node of the entire graph (while the other files are just node pairs and would exclude unlinked nodes). We then add the edges from our training set.\n",
    "\n",
    "A good library to deal with networks is the python package [NetworkX](https://networkx.github.io/). Important for the graph creation: the correct function for this usecase is `DiGraph` and not `Graph` as the network is directed."
   ]
  },
  {
   "cell_type": "code",
   "execution_count": 165,
   "metadata": {
    "scrolled": true
   },
   "outputs": [
    {
     "name": "stdout",
     "output_type": "stream",
     "text": [
      "Number of nodes : 27770\n",
      "Number of edges : 335130\n"
     ]
    }
   ],
   "source": [
    "import networkx as nx\n",
    "\n",
    "IDs = [node_id for node_id in node_info.id]\n",
    "\n",
    "training_list = training.values.tolist() # training dataframe convertion for easy edges list comprehension below\n",
    "edges = [(node_pair[0], node_pair[1]) for node_pair in training_list if node_pair[2] == 1]\n",
    "\n",
    "G = nx.DiGraph()\n",
    "G.add_nodes_from(IDs)\n",
    "G.add_edges_from(edges)\n",
    "\n",
    "print(\"Number of nodes : \" + str(G.number_of_nodes()))\n",
    "print(\"Number of edges : \" + str(G.number_of_edges()))"
   ]
  },
  {
   "cell_type": "markdown",
   "metadata": {},
   "source": [
    "## Compute the predictors"
   ]
  },
  {
   "cell_type": "markdown",
   "metadata": {},
   "source": [
    "The graph contains a lot of nodes and edges. Let's create a subset to keep the learning time of our model more laptop-suitable, it shouldn't impact the performance."
   ]
  },
  {
   "cell_type": "code",
   "execution_count": 166,
   "metadata": {},
   "outputs": [
    {
     "data": {
      "text/html": [
       "<div>\n",
       "<style>\n",
       "    .dataframe thead tr:only-child th {\n",
       "        text-align: right;\n",
       "    }\n",
       "\n",
       "    .dataframe thead th {\n",
       "        text-align: left;\n",
       "    }\n",
       "\n",
       "    .dataframe tbody tr th {\n",
       "        vertical-align: top;\n",
       "    }\n",
       "</style>\n",
       "<table border=\"1\" class=\"dataframe\">\n",
       "  <thead>\n",
       "    <tr style=\"text-align: right;\">\n",
       "      <th></th>\n",
       "      <th>source</th>\n",
       "      <th>target</th>\n",
       "      <th>Y</th>\n",
       "    </tr>\n",
       "  </thead>\n",
       "  <tbody>\n",
       "    <tr>\n",
       "      <th>147524</th>\n",
       "      <td>9603037</td>\n",
       "      <td>9306052</td>\n",
       "      <td>1</td>\n",
       "    </tr>\n",
       "    <tr>\n",
       "      <th>331103</th>\n",
       "      <td>9903164</td>\n",
       "      <td>302104</td>\n",
       "      <td>0</td>\n",
       "    </tr>\n",
       "    <tr>\n",
       "      <th>396413</th>\n",
       "      <td>301172</td>\n",
       "      <td>9906064</td>\n",
       "      <td>1</td>\n",
       "    </tr>\n",
       "  </tbody>\n",
       "</table>\n",
       "</div>"
      ],
      "text/plain": [
       "         source   target  Y\n",
       "147524  9603037  9306052  1\n",
       "331103  9903164   302104  0\n",
       "396413   301172  9906064  1"
      ]
     },
     "execution_count": 166,
     "metadata": {},
     "output_type": "execute_result"
    }
   ],
   "source": [
    "import random\n",
    "\n",
    "training_reduced = training.sample(frac=0.05) # We keep 5%\n",
    "training_reduced.columns = ['source', 'target', 'Y']\n",
    "\n",
    "training_reduced.head(3)"
   ]
  },
  {
   "cell_type": "markdown",
   "metadata": {},
   "source": [
    "Now that the training dataset is ready, time to create our future predictors. We will use the following node descriptive metrics:\n",
    "\n",
    "- **Degree centrality**: The fraction of nodes of the total graph each node is connected to. We are interested by the *out-degree* centrality of the source node (percentage of papers the article is quoting), and the *in-degree* centrality of the target node (percentage of papers the article is being quoted by).\n",
    "- **Page ranking**:  The ranking of the node in the graph based on the structure of the incoming links. We are interested in the page ranking of our target.\n",
    "- **Preferential attachment**: Express the likeliness of a connection between two nodes based on their existing connectiveness. The function is not implemented in NetworkX for directed graph so we define it.\n",
    "- **HITS algorithm**: Define a Hub and Authority value. A good Hub points to many other nodes, a good Authority is pointed by many Hubs. We are interested in the Hub score for the source, and the Authority score for the target."
   ]
  },
  {
   "cell_type": "code",
   "execution_count": 167,
   "metadata": {
    "collapsed": true
   },
   "outputs": [],
   "source": [
    "# Degree Centrality features\n",
    "out_degree_centrality = nx.out_degree_centrality(G)\n",
    "in_degree_centrality = nx.in_degree_centrality(G)\n",
    "training_reduced['source_out_centrality'] = training_reduced.apply(lambda row: out_degree_centrality[row.source],axis=1)\n",
    "training_reduced['target_in_centrality'] = training_reduced.apply(lambda row: in_degree_centrality[row.target],axis=1)\n",
    "\n",
    "# Page rank\n",
    "page_rank = nx.pagerank_scipy(G)\n",
    "training_reduced['target_pagerank'] = training_reduced.apply(lambda row: page_rank[row.target],axis=1)\n",
    "\n",
    "# Preferential Attachment\n",
    "# For a directed graph, is equal to K_out_source * K_in_target with K the number of neighbors. Which is equivalent to multiply the available centralities.\n",
    "training_reduced['preferencial_attachment'] = training_reduced.apply(lambda row: row.source_out_centrality * row.target_in_centrality,axis=1)\n",
    "\n",
    "# HITS algorithm\n",
    "hub_score, authority_score = nx.hits(G)\n",
    "training_reduced['source_hub_score'] = training_reduced.apply(lambda row: hub_score[row.source],axis=1)\n",
    "training_reduced['target_authority_score'] = training_reduced.apply(lambda row: authority_score[row.target],axis=1)"
   ]
  },
  {
   "cell_type": "code",
   "execution_count": 168,
   "metadata": {},
   "outputs": [
    {
     "data": {
      "text/html": [
       "<div>\n",
       "<style>\n",
       "    .dataframe thead tr:only-child th {\n",
       "        text-align: right;\n",
       "    }\n",
       "\n",
       "    .dataframe thead th {\n",
       "        text-align: left;\n",
       "    }\n",
       "\n",
       "    .dataframe tbody tr th {\n",
       "        vertical-align: top;\n",
       "    }\n",
       "</style>\n",
       "<table border=\"1\" class=\"dataframe\">\n",
       "  <thead>\n",
       "    <tr style=\"text-align: right;\">\n",
       "      <th></th>\n",
       "      <th>source</th>\n",
       "      <th>target</th>\n",
       "      <th>Y</th>\n",
       "      <th>source_out_centrality</th>\n",
       "      <th>target_in_centrality</th>\n",
       "      <th>target_pagerank</th>\n",
       "      <th>preferencial_attachment</th>\n",
       "      <th>source_hub_score</th>\n",
       "      <th>target_authority_score</th>\n",
       "    </tr>\n",
       "  </thead>\n",
       "  <tbody>\n",
       "    <tr>\n",
       "      <th>147524</th>\n",
       "      <td>9603037</td>\n",
       "      <td>9306052</td>\n",
       "      <td>1</td>\n",
       "      <td>0.000720</td>\n",
       "      <td>0.003493</td>\n",
       "      <td>0.000599</td>\n",
       "      <td>2.515830e-06</td>\n",
       "      <td>0.000080</td>\n",
       "      <td>0.000387</td>\n",
       "    </tr>\n",
       "    <tr>\n",
       "      <th>331103</th>\n",
       "      <td>9903164</td>\n",
       "      <td>302104</td>\n",
       "      <td>0</td>\n",
       "      <td>0.000900</td>\n",
       "      <td>0.000036</td>\n",
       "      <td>0.000011</td>\n",
       "      <td>3.242049e-08</td>\n",
       "      <td>0.000287</td>\n",
       "      <td>0.000013</td>\n",
       "    </tr>\n",
       "    <tr>\n",
       "      <th>396413</th>\n",
       "      <td>301172</td>\n",
       "      <td>9906064</td>\n",
       "      <td>1</td>\n",
       "      <td>0.001224</td>\n",
       "      <td>0.034931</td>\n",
       "      <td>0.001712</td>\n",
       "      <td>4.276911e-05</td>\n",
       "      <td>0.000036</td>\n",
       "      <td>0.002739</td>\n",
       "    </tr>\n",
       "  </tbody>\n",
       "</table>\n",
       "</div>"
      ],
      "text/plain": [
       "         source   target  Y  source_out_centrality  target_in_centrality  \\\n",
       "147524  9603037  9306052  1               0.000720              0.003493   \n",
       "331103  9903164   302104  0               0.000900              0.000036   \n",
       "396413   301172  9906064  1               0.001224              0.034931   \n",
       "\n",
       "        target_pagerank  preferencial_attachment  source_hub_score  \\\n",
       "147524         0.000599             2.515830e-06          0.000080   \n",
       "331103         0.000011             3.242049e-08          0.000287   \n",
       "396413         0.001712             4.276911e-05          0.000036   \n",
       "\n",
       "        target_authority_score  \n",
       "147524                0.000387  \n",
       "331103                0.000013  \n",
       "396413                0.002739  "
      ]
     },
     "execution_count": 168,
     "metadata": {},
     "output_type": "execute_result"
    }
   ],
   "source": [
    "training_reduced.head(3)"
   ]
  },
  {
   "cell_type": "markdown",
   "metadata": {},
   "source": [
    "There is also a lot of interesting functions for our predictions that are unfortunately not implemented in NetworkX for directed graph. For that reason, we create an undirected version just to compute the following metrics:\n",
    "- **Jaccard coefficient**: Express the similarity of a pair of nodes.\n",
    "- **Academic Adar index**: An indication of the similarity between two nodes as well.\n",
    "- ** Preferential attachment**: As defined by networkx, computed as the multiplication of the nodes degrees.\n",
    "We keep in mind that this is not perfect and due to the limits of the used library. However it has a significant impact on the performances, for the better."
   ]
  },
  {
   "cell_type": "code",
   "execution_count": 169,
   "metadata": {
    "collapsed": true
   },
   "outputs": [],
   "source": [
    "G_undirected = nx.Graph()\n",
    "G_undirected.add_nodes_from(IDs)\n",
    "G_undirected.add_edges_from(edges)\n",
    "\n",
    "# We need to create a node_pairs feature, for simplified calculation\n",
    "training_reduced['node_pairs'] =  training_reduced.apply(lambda row: (row.source, row.target) ,axis=1)"
   ]
  },
  {
   "cell_type": "code",
   "execution_count": 170,
   "metadata": {
    "collapsed": true
   },
   "outputs": [],
   "source": [
    "# Jaccard coefficient\n",
    "jaccard_scores = nx.jaccard_coefficient(G_undirected, training_reduced['node_pairs'])\n",
    "score_list = []\n",
    "for score in jaccard_scores:\n",
    "    score_list.append(score[2])\n",
    "training_reduced['jaccard'] = score_list"
   ]
  },
  {
   "cell_type": "code",
   "execution_count": 171,
   "metadata": {
    "collapsed": true
   },
   "outputs": [],
   "source": [
    "# Adar index\n",
    "adamic_adar_indexes = nx.adamic_adar_index(G_undirected, training_reduced['node_pairs'])\n",
    "score_list = []\n",
    "for score in adamic_adar_indexes:\n",
    "    score_list.append(score[2])\n",
    "training_reduced['adamic_adar_indexes'] = score_list"
   ]
  },
  {
   "cell_type": "code",
   "execution_count": 172,
   "metadata": {
    "collapsed": true
   },
   "outputs": [],
   "source": [
    "# Ressource allocation index\n",
    "resource_allocation_indexes = nx.resource_allocation_index(G_undirected, training_reduced['node_pairs'])\n",
    "score_list = []\n",
    "for score in resource_allocation_indexes:\n",
    "    score_list.append(score[2])\n",
    "training_reduced['resource_allocation_indexes'] = score_list"
   ]
  },
  {
   "cell_type": "markdown",
   "metadata": {},
   "source": [
    "We can also extract a lot of information from the features of `node_info`:\n",
    "- **Publication year**: A paper cannot quote a more recent paper. We compute the difference between the publication year of the target and the publication year of the source.\n",
    "- **Title**: Title similarity induce similar topics, and enhance the chances of articles being linked. We use a cosine distance with a BoW approach\n",
    "- **Abstract**: We follow the same reasoning that for the title.\n",
    "- **Authors**: Papers sharing authors should have higher chances of being connected. We count the number of common authors.\n",
    "\n",
    "We tried to create a feature out of the Journal name, but this has not been conclusive."
   ]
  },
  {
   "cell_type": "code",
   "execution_count": 173,
   "metadata": {
    "collapsed": true
   },
   "outputs": [],
   "source": [
    "from sklearn.feature_extraction.text import TfidfVectorizer\n",
    "from sklearn.metrics.pairwise import linear_kernel\n",
    "\n",
    "node_info = node_info.set_index('id')\n",
    "\n",
    "# Publication year\n",
    "training_reduced['pub_year_difference'] = training_reduced.apply(lambda row: node_info.pub_year[row.source] - node_info.pub_year[row.target] ,axis=1)\n",
    "training_reduced['pub_year_difference']=training_reduced['pub_year_difference'].where(training_reduced['pub_year_difference'] < 0, -1)\n",
    "\n",
    "# Title\n",
    "corpus_title = node_info['title']\n",
    "vectorizer = TfidfVectorizer(stop_words=\"english\")\n",
    "TFIDF_title = vectorizer.fit_transform(corpus_title)\n",
    "training_reduced['title_cosine'] = training_reduced.apply(lambda row: linear_kernel(TFIDF_title[IDs.index(row.source)], TFIDF_title[IDs.index(row.target)])[0][0]  ,axis=1)\n",
    "\n",
    "# Abstract\n",
    "corpus = node_info['abstract']\n",
    "TFIDF = vectorizer.fit_transform(corpus)\n",
    "training_reduced['abstract_cosine'] = training_reduced.apply(lambda row: linear_kernel(TFIDF[IDs.index(row.source)], TFIDF[IDs.index(row.target)])[0][0]  ,axis=1)\n",
    "\n",
    "# Authors\n",
    "node_info['authors'] = node_info['authors'].fillna(value='')\n",
    "training_reduced['common_authors'] = training_reduced.apply(lambda row: len(set(node_info.authors[row.source].split(\",\")).intersection(set(node_info.authors[row.target].split(\",\")))) ,axis=1)"
   ]
  },
  {
   "cell_type": "code",
   "execution_count": 174,
   "metadata": {
    "scrolled": true
   },
   "outputs": [
    {
     "data": {
      "text/html": [
       "<div>\n",
       "<style>\n",
       "    .dataframe thead tr:only-child th {\n",
       "        text-align: right;\n",
       "    }\n",
       "\n",
       "    .dataframe thead th {\n",
       "        text-align: left;\n",
       "    }\n",
       "\n",
       "    .dataframe tbody tr th {\n",
       "        vertical-align: top;\n",
       "    }\n",
       "</style>\n",
       "<table border=\"1\" class=\"dataframe\">\n",
       "  <thead>\n",
       "    <tr style=\"text-align: right;\">\n",
       "      <th></th>\n",
       "      <th>source</th>\n",
       "      <th>target</th>\n",
       "      <th>Y</th>\n",
       "      <th>source_out_centrality</th>\n",
       "      <th>target_in_centrality</th>\n",
       "      <th>target_pagerank</th>\n",
       "      <th>preferencial_attachment</th>\n",
       "      <th>source_hub_score</th>\n",
       "      <th>target_authority_score</th>\n",
       "      <th>node_pairs</th>\n",
       "      <th>jaccard</th>\n",
       "      <th>adamic_adar_indexes</th>\n",
       "      <th>resource_allocation_indexes</th>\n",
       "      <th>pub_year_difference</th>\n",
       "      <th>title_cosine</th>\n",
       "      <th>abstract_cosine</th>\n",
       "      <th>common_authors</th>\n",
       "    </tr>\n",
       "  </thead>\n",
       "  <tbody>\n",
       "    <tr>\n",
       "      <th>147524</th>\n",
       "      <td>9603037</td>\n",
       "      <td>9306052</td>\n",
       "      <td>1</td>\n",
       "      <td>0.000720</td>\n",
       "      <td>0.003493</td>\n",
       "      <td>0.000599</td>\n",
       "      <td>2.515830e-06</td>\n",
       "      <td>0.000080</td>\n",
       "      <td>0.000387</td>\n",
       "      <td>(9603037.0, 9306052.0)</td>\n",
       "      <td>0.116279</td>\n",
       "      <td>4.287146</td>\n",
       "      <td>0.217096</td>\n",
       "      <td>-1</td>\n",
       "      <td>0.0</td>\n",
       "      <td>0.057321</td>\n",
       "      <td>0</td>\n",
       "    </tr>\n",
       "    <tr>\n",
       "      <th>331103</th>\n",
       "      <td>9903164</td>\n",
       "      <td>302104</td>\n",
       "      <td>0</td>\n",
       "      <td>0.000900</td>\n",
       "      <td>0.000036</td>\n",
       "      <td>0.000011</td>\n",
       "      <td>3.242049e-08</td>\n",
       "      <td>0.000287</td>\n",
       "      <td>0.000013</td>\n",
       "      <td>(9903164.0, 302104.0)</td>\n",
       "      <td>0.047619</td>\n",
       "      <td>0.264726</td>\n",
       "      <td>0.001062</td>\n",
       "      <td>-4</td>\n",
       "      <td>0.0</td>\n",
       "      <td>0.008869</td>\n",
       "      <td>0</td>\n",
       "    </tr>\n",
       "    <tr>\n",
       "      <th>396413</th>\n",
       "      <td>301172</td>\n",
       "      <td>9906064</td>\n",
       "      <td>1</td>\n",
       "      <td>0.001224</td>\n",
       "      <td>0.034931</td>\n",
       "      <td>0.001712</td>\n",
       "      <td>4.276911e-05</td>\n",
       "      <td>0.000036</td>\n",
       "      <td>0.002739</td>\n",
       "      <td>(301172.0, 9906064.0)</td>\n",
       "      <td>0.025407</td>\n",
       "      <td>7.471130</td>\n",
       "      <td>0.999904</td>\n",
       "      <td>-1</td>\n",
       "      <td>0.0</td>\n",
       "      <td>0.074872</td>\n",
       "      <td>0</td>\n",
       "    </tr>\n",
       "  </tbody>\n",
       "</table>\n",
       "</div>"
      ],
      "text/plain": [
       "         source   target  Y  source_out_centrality  target_in_centrality  \\\n",
       "147524  9603037  9306052  1               0.000720              0.003493   \n",
       "331103  9903164   302104  0               0.000900              0.000036   \n",
       "396413   301172  9906064  1               0.001224              0.034931   \n",
       "\n",
       "        target_pagerank  preferencial_attachment  source_hub_score  \\\n",
       "147524         0.000599             2.515830e-06          0.000080   \n",
       "331103         0.000011             3.242049e-08          0.000287   \n",
       "396413         0.001712             4.276911e-05          0.000036   \n",
       "\n",
       "        target_authority_score              node_pairs   jaccard  \\\n",
       "147524                0.000387  (9603037.0, 9306052.0)  0.116279   \n",
       "331103                0.000013   (9903164.0, 302104.0)  0.047619   \n",
       "396413                0.002739   (301172.0, 9906064.0)  0.025407   \n",
       "\n",
       "        adamic_adar_indexes  resource_allocation_indexes  pub_year_difference  \\\n",
       "147524             4.287146                     0.217096                   -1   \n",
       "331103             0.264726                     0.001062                   -4   \n",
       "396413             7.471130                     0.999904                   -1   \n",
       "\n",
       "        title_cosine  abstract_cosine  common_authors  \n",
       "147524           0.0         0.057321               0  \n",
       "331103           0.0         0.008869               0  \n",
       "396413           0.0         0.074872               0  "
      ]
     },
     "execution_count": 174,
     "metadata": {},
     "output_type": "execute_result"
    }
   ],
   "source": [
    "training_reduced.head(3)"
   ]
  },
  {
   "cell_type": "markdown",
   "metadata": {},
   "source": [
    "We now have 13 predictors! Some of them express a certain part of common information, we can see it on the correlation matrix of features as well:"
   ]
  },
  {
   "cell_type": "code",
   "execution_count": 175,
   "metadata": {},
   "outputs": [
    {
     "data": {
      "text/plain": [
       "<matplotlib.axes._subplots.AxesSubplot at 0x1a31155650>"
      ]
     },
     "execution_count": 175,
     "metadata": {},
     "output_type": "execute_result"
    },
    {
     "data": {
      "image/png": "[encoded data removed]",
      "text/plain": [
       "<matplotlib.figure.Figure at 0x1a3114ce50>"
      ]
     },
     "metadata": {},
     "output_type": "display_data"
    }
   ],
   "source": [
    "%matplotlib inline\n",
    "\n",
    "import seaborn as sns\n",
    "import matplotlib.pyplot as plt\n",
    "\n",
    "plt.figure(figsize=(14,12))\n",
    "sns.heatmap(training_reduced.drop(['source', 'target', 'Y'],axis = 1).corr(),\n",
    "            vmax=0.5,\n",
    "            square=True,\n",
    "            annot=True)"
   ]
  },
  {
   "cell_type": "markdown",
   "metadata": {},
   "source": [
    "Some features have too much collinearity. We remove `target_in_centrality` and `source_out_centrality` that have .82, .71 and .94 with 3 other variables !"
   ]
  },
  {
   "cell_type": "code",
   "execution_count": 176,
   "metadata": {},
   "outputs": [],
   "source": [
    "training_reduced = training_reduced.drop(['target_in_centrality', 'source_out_centrality'],axis=1)"
   ]
  },
  {
   "cell_type": "markdown",
   "metadata": {},
   "source": [
    "## Build the model"
   ]
  },
  {
   "cell_type": "markdown",
   "metadata": {},
   "source": [
    "Even if in the end all of `training_reduced` will be used for training, we first want to create a *train,test split* to have an idea of the performance of the classifier."
   ]
  },
  {
   "cell_type": "markdown",
   "metadata": {},
   "source": [
    "### 1. Random Forest classifier"
   ]
  },
  {
   "cell_type": "code",
   "execution_count": 177,
   "metadata": {
    "collapsed": true
   },
   "outputs": [],
   "source": [
    "from sklearn.model_selection import train_test_split\n",
    "\n",
    "X_train, X_test, y_train, y_test = train_test_split(training_reduced.drop(['source', 'target', 'Y', 'node_pairs'], axis= 1), training_reduced.Y, test_size=0.2)"
   ]
  },
  {
   "cell_type": "markdown",
   "metadata": {},
   "source": [
    "Starting with a Random Forest is often a good idea in this kind of prediction task. Indeed, Random Forest does not require a lot of specific feature engineering, and gives a good idea of important features. We use the [scikit-learn](http://scikit-learn.org/stable/) library."
   ]
  },
  {
   "cell_type": "code",
   "execution_count": 178,
   "metadata": {},
   "outputs": [
    {
     "data": {
      "text/plain": [
       "RandomForestClassifier(bootstrap=True, class_weight=None, criterion='gini',\n",
       "            max_depth=None, max_features='auto', max_leaf_nodes=None,\n",
       "            min_impurity_decrease=0.0, min_impurity_split=None,\n",
       "            min_samples_leaf=1, min_samples_split=2,\n",
       "            min_weight_fraction_leaf=0.0, n_estimators=100, n_jobs=1,\n",
       "            oob_score=False, random_state=None, verbose=0,\n",
       "            warm_start=False)"
      ]
     },
     "execution_count": 178,
     "metadata": {},
     "output_type": "execute_result"
    }
   ],
   "source": [
    "from sklearn.ensemble import RandomForestClassifier\n",
    "\n",
    "RF_classifer =  RandomForestClassifier(n_estimators= 100)\n",
    "RF_classifer.fit(X_train, y_train)"
   ]
  },
  {
   "cell_type": "markdown",
   "metadata": {},
   "source": [
    "We now test on our freshly created X_test:"
   ]
  },
  {
   "cell_type": "code",
   "execution_count": 179,
   "metadata": {},
   "outputs": [
    {
     "data": {
      "text/plain": [
       "0.97254710851202075"
      ]
     },
     "execution_count": 179,
     "metadata": {},
     "output_type": "execute_result"
    }
   ],
   "source": [
    "RF_classifer.score(X_test, y_test)"
   ]
  },
  {
   "cell_type": "markdown",
   "metadata": {},
   "source": [
    "A score of .973 accuracy is very encouraging!\n",
    "Let us compare this random forest with other classifiers to see which classifier performs best:"
   ]
  },
  {
   "cell_type": "markdown",
   "metadata": {},
   "source": [
    "### 2. Comparison with other classifiers"
   ]
  },
  {
   "cell_type": "code",
   "execution_count": 180,
   "metadata": {},
   "outputs": [
    {
     "data": {
      "text/html": [
       "<div>\n",
       "<style>\n",
       "    .dataframe thead tr:only-child th {\n",
       "        text-align: right;\n",
       "    }\n",
       "\n",
       "    .dataframe thead th {\n",
       "        text-align: left;\n",
       "    }\n",
       "\n",
       "    .dataframe tbody tr th {\n",
       "        vertical-align: top;\n",
       "    }\n",
       "</style>\n",
       "<table border=\"1\" class=\"dataframe\">\n",
       "  <thead>\n",
       "    <tr style=\"text-align: right;\">\n",
       "      <th></th>\n",
       "      <th>classifier_name</th>\n",
       "      <th>mean_accuracy</th>\n",
       "      <th>std_accuracy</th>\n",
       "    </tr>\n",
       "  </thead>\n",
       "  <tbody>\n",
       "    <tr>\n",
       "      <th>0</th>\n",
       "      <td>RandomForest</td>\n",
       "      <td>0.969456</td>\n",
       "      <td>0.002905</td>\n",
       "    </tr>\n",
       "    <tr>\n",
       "      <th>1</th>\n",
       "      <td>LogisticRegression</td>\n",
       "      <td>0.960642</td>\n",
       "      <td>0.004108</td>\n",
       "    </tr>\n",
       "    <tr>\n",
       "      <th>2</th>\n",
       "      <td>Linear SVM</td>\n",
       "      <td>0.959058</td>\n",
       "      <td>0.003704</td>\n",
       "    </tr>\n",
       "    <tr>\n",
       "      <th>3</th>\n",
       "      <td>Nearest Neighbors</td>\n",
       "      <td>0.962998</td>\n",
       "      <td>0.004112</td>\n",
       "    </tr>\n",
       "    <tr>\n",
       "      <th>4</th>\n",
       "      <td>Decision Tree</td>\n",
       "      <td>0.950772</td>\n",
       "      <td>0.002871</td>\n",
       "    </tr>\n",
       "    <tr>\n",
       "      <th>5</th>\n",
       "      <td>AdaBoost</td>\n",
       "      <td>0.968237</td>\n",
       "      <td>0.002374</td>\n",
       "    </tr>\n",
       "    <tr>\n",
       "      <th>6</th>\n",
       "      <td>GradientBoosting</td>\n",
       "      <td>0.964500</td>\n",
       "      <td>0.004123</td>\n",
       "    </tr>\n",
       "    <tr>\n",
       "      <th>7</th>\n",
       "      <td>Naive Bayes</td>\n",
       "      <td>0.953777</td>\n",
       "      <td>0.004008</td>\n",
       "    </tr>\n",
       "  </tbody>\n",
       "</table>\n",
       "</div>"
      ],
      "text/plain": [
       "      classifier_name  mean_accuracy  std_accuracy\n",
       "0        RandomForest       0.969456      0.002905\n",
       "1  LogisticRegression       0.960642      0.004108\n",
       "2          Linear SVM       0.959058      0.003704\n",
       "3   Nearest Neighbors       0.962998      0.004112\n",
       "4       Decision Tree       0.950772      0.002871\n",
       "5            AdaBoost       0.968237      0.002374\n",
       "6    GradientBoosting       0.964500      0.004123\n",
       "7         Naive Bayes       0.953777      0.004008"
      ]
     },
     "execution_count": 180,
     "metadata": {},
     "output_type": "execute_result"
    }
   ],
   "source": [
    "from sklearn.neighbors import KNeighborsClassifier\n",
    "from sklearn.svm import LinearSVC\n",
    "from sklearn.tree import DecisionTreeClassifier\n",
    "from sklearn.ensemble import RandomForestClassifier, GradientBoostingClassifier, AdaBoostClassifier\n",
    "from sklearn.naive_bayes import GaussianNB\n",
    "from sklearn.linear_model import LogisticRegression\n",
    "\n",
    "names = [\"RandomForest\",\"LogisticRegression\", \"Linear SVM\",\"Nearest Neighbors\",\n",
    "         \"Decision Tree\", \"AdaBoost\", \"GradientBoosting\",\n",
    "         \"Naive Bayes\"]\n",
    "\n",
    "classifiers = [\n",
    "    RandomForestClassifier(n_estimators= 100),\n",
    "    LogisticRegression(),\n",
    "    LinearSVC(),\n",
    "    KNeighborsClassifier(3),    \n",
    "    DecisionTreeClassifier(),\n",
    "    GradientBoostingClassifier(),\n",
    "    AdaBoostClassifier(n_estimators=100),\n",
    "    GaussianNB()]\n",
    "\n",
    "scores_classifiers_list = []\n",
    "kfold = model_selection.KFold(n_splits=10, random_state=1)\n",
    "results= []\n",
    "for name, classifier in zip(names,classifiers):\n",
    "    cv_results = model_selection.cross_val_score(classifier, X_train, y_train, cv=kfold, scoring='accuracy')\n",
    "    results.append(cv_results)\n",
    "    dico_class = {}\n",
    "    dico_class['classifier_name'] = name\n",
    "    dico_class['mean_accuracy'] = cv_results.mean()\n",
    "    dico_class['std_accuracy'] = cv_results.std()\n",
    "    scores_classifiers_list.append(dico_class)\n",
    "    \n",
    "df = pd.DataFrame(scores_classifiers_list)\n",
    "df"
   ]
  },
  {
   "cell_type": "markdown",
   "metadata": {},
   "source": [
    "Random Forest still is the best!\n",
    "\n",
    "We can try to fit on the entire training set and make the predictions on the test set.To do so, we must reproduce the feature engineering steps previously realized on the training set."
   ]
  },
  {
   "cell_type": "code",
   "execution_count": 181,
   "metadata": {},
   "outputs": [
    {
     "data": {
      "image/png": "[encoded data removed]",
      "text/plain": [
       "<matplotlib.figure.Figure at 0x10f735490>"
      ]
     },
     "metadata": {},
     "output_type": "display_data"
    }
   ],
   "source": [
    "import matplotlib.pyplot as plt\n",
    "# boxplot algorithm comparison\n",
    "fig = plt.figure(figsize=(15,8))\n",
    "fig.suptitle('Algorithm Comparison')\n",
    "ax = fig.add_subplot(111)\n",
    "plt.boxplot(results)\n",
    "ax.set_xticklabels(names)\n",
    "plt.show()"
   ]
  },
  {
   "cell_type": "code",
   "execution_count": 182,
   "metadata": {
    "collapsed": true
   },
   "outputs": [],
   "source": [
    "testing.columns = ['source', 'target']\n",
    "\n",
    "# Degree Centrality features\n",
    "testing['source_out_centrality'] = testing.apply(lambda row: out_degree_centrality[row.source],axis=1)\n",
    "testing['target_in_centrality'] = testing.apply(lambda row: in_degree_centrality[row.target],axis=1)\n",
    "# Page rank\n",
    "testing['target_pagerank'] = testing.apply(lambda row: page_rank[row.target],axis=1)\n",
    "# Preferential Attachment\n",
    "# For a directed graph, is equal to K_out_source * K_in_target with K the number of neighbors. Which is equivalent to multiply the available centralities.\n",
    "testing['preferencial_attachment'] = testing.apply(lambda row: row.source_out_centrality * row.target_in_centrality,axis=1)\n",
    "# HITS algorithm\n",
    "testing['source_hub_score'] = testing.apply(lambda row: hub_score[row.source],axis=1)\n",
    "testing['target_authority_score'] = testing.apply(lambda row: authority_score[row.target],axis=1)\n",
    "# Node pairs\n",
    "testing['node_pairs'] =  testing.apply(lambda row: (row.source, row.target) ,axis=1)\n",
    "# Jaccard score\n",
    "jaccard_scores = nx.jaccard_coefficient(G_undirected, testing['node_pairs'])\n",
    "score_list = []\n",
    "for score in jaccard_scores:\n",
    "    score_list.append(score[2])\n",
    "testing['jaccard'] = score_list\n",
    "# Adar index\n",
    "adamic_adar_indexes = nx.adamic_adar_index(G_undirected, testing['node_pairs'])\n",
    "score_list = []\n",
    "for score in adamic_adar_indexes:\n",
    "    score_list.append(score[2])\n",
    "testing['adamic_adar_indexes'] = score_list\n",
    "# Ressource allocation index\n",
    "resource_allocation_indexes = nx.resource_allocation_index(G_undirected, testing['node_pairs'])\n",
    "score_list = []\n",
    "for score in resource_allocation_indexes:\n",
    "    score_list.append(score[2])\n",
    "testing['resource_allocation_indexes'] = score_list\n",
    "# Publication year\n",
    "testing['pub_year_difference'] = testing.apply(lambda row: node_info.pub_year[row.source] - node_info.pub_year[row.target] ,axis=1)\n",
    "testing['pub_year_difference']=testing['pub_year_difference'].where(testing['pub_year_difference'] < 0, -1)\n",
    "# Title\n",
    "testing['title_cosine'] = testing.apply(lambda row: linear_kernel(TFIDF_title[IDs.index(row.source)], TFIDF_title[IDs.index(row.target)])[0][0]  ,axis=1)\n",
    "# Abstract\n",
    "testing['abstract_cosine'] = testing.apply(lambda row: linear_kernel(TFIDF[IDs.index(row.source)], TFIDF[IDs.index(row.target)])[0][0]  ,axis=1)\n",
    "# Authors\n",
    "testing['common_authors'] = testing.apply(lambda row: len(set(node_info.authors[row.source].split(\",\")).intersection(set(node_info.authors[row.target].split(\",\")))) ,axis=1)"
   ]
  },
  {
   "cell_type": "code",
   "execution_count": 183,
   "metadata": {
    "scrolled": false
   },
   "outputs": [
    {
     "data": {
      "text/plain": [
       "RandomForestClassifier(bootstrap=True, class_weight=None, criterion='gini',\n",
       "            max_depth=None, max_features='auto', max_leaf_nodes=None,\n",
       "            min_impurity_decrease=0.0, min_impurity_split=None,\n",
       "            min_samples_leaf=1, min_samples_split=2,\n",
       "            min_weight_fraction_leaf=0.0, n_estimators=1000, n_jobs=1,\n",
       "            oob_score=False, random_state=None, verbose=0,\n",
       "            warm_start=False)"
      ]
     },
     "execution_count": 183,
     "metadata": {},
     "output_type": "execute_result"
    }
   ],
   "source": [
    "RF_classifer =  RandomForestClassifier(n_estimators= 1000)\n",
    "RF_classifer.fit(training_reduced.drop(['source', 'target', 'Y', 'node_pairs'],axis=1), training_reduced.Y)"
   ]
  },
  {
   "cell_type": "code",
   "execution_count": 185,
   "metadata": {},
   "outputs": [],
   "source": [
    "testing = testing.drop(['target_in_centrality', 'source_out_centrality'],axis=1)"
   ]
  },
  {
   "cell_type": "code",
   "execution_count": 186,
   "metadata": {
    "collapsed": true
   },
   "outputs": [],
   "source": [
    "predictions = RF_classifer.predict(testing.drop(['source', 'target', 'node_pairs'], axis = 1))\n",
    "predictions_df = pd.DataFrame(predictions)\n",
    "predictions_df.to_csv('predictions.csv')"
   ]
  },
  {
   "cell_type": "markdown",
   "metadata": {},
   "source": [
    "Our predictions have been uploaded to Kaggle and obtained an F1 score of 0.96789! "
   ]
  },
  {
   "cell_type": "code",
   "execution_count": null,
   "metadata": {
    "collapsed": true
   },
   "outputs": [],
   "source": []
  }
 ],
 "metadata": {
  "kernelspec": {
   "display_name": "Python 2",
   "language": "python",
   "name": "python2"
  },
  "language_info": {
   "codemirror_mode": {
    "name": "ipython",
    "version": 2
   },
   "file_extension": ".py",
   "mimetype": "text/x-python",
   "name": "python",
   "nbconvert_exporter": "python",
   "pygments_lexer": "ipython2",
   "version": "2.7.14"
  },
  "toc": {
   "colors": {
    "hover_highlight": "#DAA520",
    "running_highlight": "#FF0000",
    "selected_highlight": "#FFD700"
   },
   "moveMenuLeft": true,
   "nav_menu": {
    "height": "64px",
    "width": "253px"
   },
   "navigate_menu": true,
   "number_sections": true,
   "sideBar": true,
   "threshold": 4,
   "toc_cell": false,
   "toc_section_display": "block",
   "toc_window_display": false,
   "widenNotebook": false
  }
 },
 "nbformat": 4,
 "nbformat_minor": 2
}
